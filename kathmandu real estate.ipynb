{
 "cells": [
  {
   "cell_type": "code",
   "execution_count": 1,
   "id": "1e8663e3",
   "metadata": {},
   "outputs": [],
   "source": [
    "#importing libraries\n",
    "import pandas as pd\n",
    "import numpy as np"
   ]
  },
  {
   "cell_type": "code",
   "execution_count": 2,
   "id": "47807324",
   "metadata": {},
   "outputs": [],
   "source": [
    "#reading data from csv file and expressing as dataframe\n",
    "housing = pd.read_csv(\"1ropani.csv\")\n",
    "housing = pd.DataFrame(housing)"
   ]
  },
  {
   "cell_type": "code",
   "execution_count": 3,
   "id": "2cf33085",
   "metadata": {},
   "outputs": [],
   "source": [
    "#dropping null values as room has NAN values\n",
    "housing.drop('room',inplace=True, axis=1)\n",
    "housing.drop('title',inplace=True, axis=1)\n",
    "housing.drop('link',inplace=True,axis=1)"
   ]
  },
  {
   "cell_type": "code",
   "execution_count": 4,
   "id": "5508f6d1",
   "metadata": {
    "scrolled": true
   },
   "outputs": [
    {
     "data": {
      "text/html": [
       "<div>\n",
       "<style scoped>\n",
       "    .dataframe tbody tr th:only-of-type {\n",
       "        vertical-align: middle;\n",
       "    }\n",
       "\n",
       "    .dataframe tbody tr th {\n",
       "        vertical-align: top;\n",
       "    }\n",
       "\n",
       "    .dataframe thead th {\n",
       "        text-align: right;\n",
       "    }\n",
       "</style>\n",
       "<table border=\"1\" class=\"dataframe\">\n",
       "  <thead>\n",
       "    <tr style=\"text-align: right;\">\n",
       "      <th></th>\n",
       "      <th>price</th>\n",
       "      <th>area</th>\n",
       "      <th>location</th>\n",
       "      <th>district</th>\n",
       "      <th>floor</th>\n",
       "      <th>bedroom</th>\n",
       "      <th>bathroom</th>\n",
       "      <th>livingroom</th>\n",
       "      <th>kitchen</th>\n",
       "      <th>parking</th>\n",
       "    </tr>\n",
       "  </thead>\n",
       "  <tbody>\n",
       "    <tr>\n",
       "      <th>0</th>\n",
       "      <td>2,90,00,000</td>\n",
       "      <td>3 anna 3 paisa</td>\n",
       "      <td>Kathmandu</td>\n",
       "      <td>Kathmandu</td>\n",
       "      <td>Two And Half Floors</td>\n",
       "      <td>9 Bed Room</td>\n",
       "      <td>4 Bath Room</td>\n",
       "      <td>1 Living Room</td>\n",
       "      <td>1 Kitchen</td>\n",
       "      <td>1</td>\n",
       "    </tr>\n",
       "    <tr>\n",
       "      <th>1</th>\n",
       "      <td>95,00,000</td>\n",
       "      <td>3 anna 1 daam</td>\n",
       "      <td>Kathmandu, Tarkeshwor</td>\n",
       "      <td>Kathmandu</td>\n",
       "      <td>Two And Half Floors</td>\n",
       "      <td>7 Bed Room</td>\n",
       "      <td>3 Bath Room</td>\n",
       "      <td>1 Living Room</td>\n",
       "      <td>2 Kitchen</td>\n",
       "      <td>0</td>\n",
       "    </tr>\n",
       "    <tr>\n",
       "      <th>2</th>\n",
       "      <td>3,85,00,000</td>\n",
       "      <td>4 anna</td>\n",
       "      <td>Kathmandu, Dakshinamurti Marg,jayabahageshwori...</td>\n",
       "      <td>Kathmandu</td>\n",
       "      <td>3.5 Floors</td>\n",
       "      <td>5 Bed Room</td>\n",
       "      <td>4 Bath Room</td>\n",
       "      <td>1 Living Room</td>\n",
       "      <td>1 Kitchen</td>\n",
       "      <td>1</td>\n",
       "    </tr>\n",
       "    <tr>\n",
       "      <th>3</th>\n",
       "      <td>1,30,00,000</td>\n",
       "      <td>11 dhur</td>\n",
       "      <td>Chitwan, Bharatpur, bikash chowk</td>\n",
       "      <td>Chitwan</td>\n",
       "      <td>1 and Half Floors</td>\n",
       "      <td>3 Bed Room</td>\n",
       "      <td>3 Bath Room</td>\n",
       "      <td>1 Living Room</td>\n",
       "      <td>1 Kitchen</td>\n",
       "      <td>1</td>\n",
       "    </tr>\n",
       "    <tr>\n",
       "      <th>4</th>\n",
       "      <td>3,00,00,000</td>\n",
       "      <td>4 anna</td>\n",
       "      <td>Kathmandu, Budhanilkantha, Baluwakhani100 mete...</td>\n",
       "      <td>Kathmandu</td>\n",
       "      <td>Three Floors</td>\n",
       "      <td>5 Bed Room</td>\n",
       "      <td>4 Bath Room</td>\n",
       "      <td>3 Living Room</td>\n",
       "      <td>2 Kitchen</td>\n",
       "      <td>1</td>\n",
       "    </tr>\n",
       "  </tbody>\n",
       "</table>\n",
       "</div>"
      ],
      "text/plain": [
       "         price            area  \\\n",
       "0  2,90,00,000  3 anna 3 paisa   \n",
       "1    95,00,000   3 anna 1 daam   \n",
       "2  3,85,00,000          4 anna   \n",
       "3  1,30,00,000         11 dhur   \n",
       "4  3,00,00,000          4 anna   \n",
       "\n",
       "                                            location   district  \\\n",
       "0                                          Kathmandu  Kathmandu   \n",
       "1                              Kathmandu, Tarkeshwor  Kathmandu   \n",
       "2  Kathmandu, Dakshinamurti Marg,jayabahageshwori...  Kathmandu   \n",
       "3                   Chitwan, Bharatpur, bikash chowk    Chitwan   \n",
       "4  Kathmandu, Budhanilkantha, Baluwakhani100 mete...  Kathmandu   \n",
       "\n",
       "                 floor     bedroom     bathroom     livingroom    kitchen  \\\n",
       "0  Two And Half Floors  9 Bed Room  4 Bath Room  1 Living Room  1 Kitchen   \n",
       "1  Two And Half Floors  7 Bed Room  3 Bath Room  1 Living Room  2 Kitchen   \n",
       "2           3.5 Floors  5 Bed Room  4 Bath Room  1 Living Room  1 Kitchen   \n",
       "3    1 and Half Floors  3 Bed Room  3 Bath Room  1 Living Room  1 Kitchen   \n",
       "4         Three Floors  5 Bed Room  4 Bath Room  3 Living Room  2 Kitchen   \n",
       "\n",
       "   parking  \n",
       "0        1  \n",
       "1        0  \n",
       "2        1  \n",
       "3        1  \n",
       "4        1  "
      ]
     },
     "execution_count": 4,
     "metadata": {},
     "output_type": "execute_result"
    }
   ],
   "source": [
    "#printing only head i.e. few rows\n",
    "housing.head()"
   ]
  },
  {
   "cell_type": "code",
   "execution_count": 5,
   "id": "127c6a3e",
   "metadata": {},
   "outputs": [],
   "source": [
    "#function to clean string\n",
    "def clean(string):\n",
    "    string= string.replace('\\n','')\n",
    "    string= string.replace('\\xa0\\xa0','')\n",
    "    string= string.replace(' ','')\n",
    "    string= string.replace(',','')\n",
    "    return (string)"
   ]
  },
  {
   "cell_type": "code",
   "execution_count": 6,
   "id": "2d562b2e",
   "metadata": {},
   "outputs": [],
   "source": [
    "#converting string price values to numeric\n",
    "price= []\n",
    "for i in housing['price']:\n",
    "    i = clean(i)\n",
    "    price.append(int(i))\n",
    "housing['price'] = price\n",
    "                 "
   ]
  },
  {
   "cell_type": "code",
   "execution_count": 7,
   "id": "862b442b",
   "metadata": {},
   "outputs": [],
   "source": [
    "#function to remove strings from columns\n",
    "def removing_string(string):\n",
    "    column = []\n",
    "    for i in housing[string]:\n",
    "        i = i.split(\" \")[0]\n",
    "        column.append(i)\n",
    "    return(column)    "
   ]
  },
  {
   "cell_type": "code",
   "execution_count": 8,
   "id": "592d570a",
   "metadata": {},
   "outputs": [],
   "source": [
    "#making columns only have numeric values\n",
    "housing['bedroom']= removing_string('bedroom')\n",
    "housing['bathroom']= removing_string('bathroom')\n",
    "housing['livingroom']= removing_string('livingroom')\n",
    "housing['kitchen']= removing_string('kitchen')"
   ]
  },
  {
   "cell_type": "code",
   "execution_count": 9,
   "id": "07fd9a08",
   "metadata": {
    "scrolled": true
   },
   "outputs": [
    {
     "data": {
      "text/html": [
       "<div>\n",
       "<style scoped>\n",
       "    .dataframe tbody tr th:only-of-type {\n",
       "        vertical-align: middle;\n",
       "    }\n",
       "\n",
       "    .dataframe tbody tr th {\n",
       "        vertical-align: top;\n",
       "    }\n",
       "\n",
       "    .dataframe thead th {\n",
       "        text-align: right;\n",
       "    }\n",
       "</style>\n",
       "<table border=\"1\" class=\"dataframe\">\n",
       "  <thead>\n",
       "    <tr style=\"text-align: right;\">\n",
       "      <th></th>\n",
       "      <th>price</th>\n",
       "      <th>area</th>\n",
       "      <th>location</th>\n",
       "      <th>district</th>\n",
       "      <th>floor</th>\n",
       "      <th>bedroom</th>\n",
       "      <th>bathroom</th>\n",
       "      <th>livingroom</th>\n",
       "      <th>kitchen</th>\n",
       "      <th>parking</th>\n",
       "    </tr>\n",
       "  </thead>\n",
       "  <tbody>\n",
       "    <tr>\n",
       "      <th>0</th>\n",
       "      <td>29000000</td>\n",
       "      <td>3 anna 3 paisa</td>\n",
       "      <td>Kathmandu</td>\n",
       "      <td>Kathmandu</td>\n",
       "      <td>Two And Half Floors</td>\n",
       "      <td>9</td>\n",
       "      <td>4</td>\n",
       "      <td>1</td>\n",
       "      <td>1</td>\n",
       "      <td>1</td>\n",
       "    </tr>\n",
       "    <tr>\n",
       "      <th>1</th>\n",
       "      <td>9500000</td>\n",
       "      <td>3 anna 1 daam</td>\n",
       "      <td>Kathmandu, Tarkeshwor</td>\n",
       "      <td>Kathmandu</td>\n",
       "      <td>Two And Half Floors</td>\n",
       "      <td>7</td>\n",
       "      <td>3</td>\n",
       "      <td>1</td>\n",
       "      <td>2</td>\n",
       "      <td>0</td>\n",
       "    </tr>\n",
       "    <tr>\n",
       "      <th>2</th>\n",
       "      <td>38500000</td>\n",
       "      <td>4 anna</td>\n",
       "      <td>Kathmandu, Dakshinamurti Marg,jayabahageshwori...</td>\n",
       "      <td>Kathmandu</td>\n",
       "      <td>3.5 Floors</td>\n",
       "      <td>5</td>\n",
       "      <td>4</td>\n",
       "      <td>1</td>\n",
       "      <td>1</td>\n",
       "      <td>1</td>\n",
       "    </tr>\n",
       "    <tr>\n",
       "      <th>3</th>\n",
       "      <td>13000000</td>\n",
       "      <td>11 dhur</td>\n",
       "      <td>Chitwan, Bharatpur, bikash chowk</td>\n",
       "      <td>Chitwan</td>\n",
       "      <td>1 and Half Floors</td>\n",
       "      <td>3</td>\n",
       "      <td>3</td>\n",
       "      <td>1</td>\n",
       "      <td>1</td>\n",
       "      <td>1</td>\n",
       "    </tr>\n",
       "    <tr>\n",
       "      <th>4</th>\n",
       "      <td>30000000</td>\n",
       "      <td>4 anna</td>\n",
       "      <td>Kathmandu, Budhanilkantha, Baluwakhani100 mete...</td>\n",
       "      <td>Kathmandu</td>\n",
       "      <td>Three Floors</td>\n",
       "      <td>5</td>\n",
       "      <td>4</td>\n",
       "      <td>3</td>\n",
       "      <td>2</td>\n",
       "      <td>1</td>\n",
       "    </tr>\n",
       "    <tr>\n",
       "      <th>...</th>\n",
       "      <td>...</td>\n",
       "      <td>...</td>\n",
       "      <td>...</td>\n",
       "      <td>...</td>\n",
       "      <td>...</td>\n",
       "      <td>...</td>\n",
       "      <td>...</td>\n",
       "      <td>...</td>\n",
       "      <td>...</td>\n",
       "      <td>...</td>\n",
       "    </tr>\n",
       "    <tr>\n",
       "      <th>432</th>\n",
       "      <td>40000000</td>\n",
       "      <td>9 anna</td>\n",
       "      <td>Kathmandu500 m from Soaltee main Gate</td>\n",
       "      <td>Kathmandu500 m from Soaltee main Gate</td>\n",
       "      <td>4 Floors</td>\n",
       "      <td>5</td>\n",
       "      <td>3</td>\n",
       "      <td>1</td>\n",
       "      <td>1</td>\n",
       "      <td>1</td>\n",
       "    </tr>\n",
       "    <tr>\n",
       "      <th>433</th>\n",
       "      <td>25000000</td>\n",
       "      <td>4 anna 1 paisa</td>\n",
       "      <td>Kathmandu, New Colony500 m from Sukedhara Chowk</td>\n",
       "      <td>Kathmandu</td>\n",
       "      <td>4 Floors</td>\n",
       "      <td>6</td>\n",
       "      <td>5</td>\n",
       "      <td>3</td>\n",
       "      <td>2</td>\n",
       "      <td>1</td>\n",
       "    </tr>\n",
       "    <tr>\n",
       "      <th>434</th>\n",
       "      <td>23000000</td>\n",
       "      <td>5 anna</td>\n",
       "      <td>Lalitpur, Karyabinayak, Sainbu</td>\n",
       "      <td>Lalitpur</td>\n",
       "      <td>3 Floors</td>\n",
       "      <td>5</td>\n",
       "      <td>5</td>\n",
       "      <td>1</td>\n",
       "      <td>2</td>\n",
       "      <td>0</td>\n",
       "    </tr>\n",
       "    <tr>\n",
       "      <th>435</th>\n",
       "      <td>33000000</td>\n",
       "      <td>4 anna 1 paisa</td>\n",
       "      <td>Lalitpur, Sainbu Bhainsepati, Mahila Samuha Ma...</td>\n",
       "      <td>Lalitpur</td>\n",
       "      <td>3 Floors</td>\n",
       "      <td>4</td>\n",
       "      <td>5</td>\n",
       "      <td>1</td>\n",
       "      <td>1</td>\n",
       "      <td>1</td>\n",
       "    </tr>\n",
       "    <tr>\n",
       "      <th>436</th>\n",
       "      <td>4100000</td>\n",
       "      <td>7 anna</td>\n",
       "      <td>Tanahun, Devghat, Devghatdhamnearby Harihar As...</td>\n",
       "      <td>Tanahun</td>\n",
       "      <td>3 Floors</td>\n",
       "      <td>3</td>\n",
       "      <td>2</td>\n",
       "      <td>1</td>\n",
       "      <td>1</td>\n",
       "      <td>0</td>\n",
       "    </tr>\n",
       "  </tbody>\n",
       "</table>\n",
       "<p>437 rows × 10 columns</p>\n",
       "</div>"
      ],
      "text/plain": [
       "        price            area  \\\n",
       "0    29000000  3 anna 3 paisa   \n",
       "1     9500000   3 anna 1 daam   \n",
       "2    38500000          4 anna   \n",
       "3    13000000         11 dhur   \n",
       "4    30000000          4 anna   \n",
       "..        ...             ...   \n",
       "432  40000000          9 anna   \n",
       "433  25000000  4 anna 1 paisa   \n",
       "434  23000000          5 anna   \n",
       "435  33000000  4 anna 1 paisa   \n",
       "436   4100000          7 anna   \n",
       "\n",
       "                                              location  \\\n",
       "0                                            Kathmandu   \n",
       "1                                Kathmandu, Tarkeshwor   \n",
       "2    Kathmandu, Dakshinamurti Marg,jayabahageshwori...   \n",
       "3                     Chitwan, Bharatpur, bikash chowk   \n",
       "4    Kathmandu, Budhanilkantha, Baluwakhani100 mete...   \n",
       "..                                                 ...   \n",
       "432              Kathmandu500 m from Soaltee main Gate   \n",
       "433    Kathmandu, New Colony500 m from Sukedhara Chowk   \n",
       "434                     Lalitpur, Karyabinayak, Sainbu   \n",
       "435  Lalitpur, Sainbu Bhainsepati, Mahila Samuha Ma...   \n",
       "436  Tanahun, Devghat, Devghatdhamnearby Harihar As...   \n",
       "\n",
       "                                  district                floor bedroom  \\\n",
       "0                                Kathmandu  Two And Half Floors       9   \n",
       "1                                Kathmandu  Two And Half Floors       7   \n",
       "2                                Kathmandu           3.5 Floors       5   \n",
       "3                                  Chitwan    1 and Half Floors       3   \n",
       "4                                Kathmandu         Three Floors       5   \n",
       "..                                     ...                  ...     ...   \n",
       "432  Kathmandu500 m from Soaltee main Gate             4 Floors       5   \n",
       "433                              Kathmandu             4 Floors       6   \n",
       "434                               Lalitpur             3 Floors       5   \n",
       "435                               Lalitpur             3 Floors       4   \n",
       "436                                Tanahun             3 Floors       3   \n",
       "\n",
       "    bathroom livingroom kitchen  parking  \n",
       "0          4          1       1        1  \n",
       "1          3          1       2        0  \n",
       "2          4          1       1        1  \n",
       "3          3          1       1        1  \n",
       "4          4          3       2        1  \n",
       "..       ...        ...     ...      ...  \n",
       "432        3          1       1        1  \n",
       "433        5          3       2        1  \n",
       "434        5          1       2        0  \n",
       "435        5          1       1        1  \n",
       "436        2          1       1        0  \n",
       "\n",
       "[437 rows x 10 columns]"
      ]
     },
     "execution_count": 9,
     "metadata": {},
     "output_type": "execute_result"
    }
   ],
   "source": [
    "#visualizing the dataset again\n",
    "housing"
   ]
  },
  {
   "cell_type": "code",
   "execution_count": 10,
   "id": "28f7d8d3",
   "metadata": {},
   "outputs": [
    {
     "data": {
      "text/plain": [
       "array([[<AxesSubplot:title={'center':'price'}>,\n",
       "        <AxesSubplot:title={'center':'parking'}>]], dtype=object)"
      ]
     },
     "execution_count": 10,
     "metadata": {},
     "output_type": "execute_result"
    },
    {
     "data": {
      "image/png": "[encoded data removed]",
      "text/plain": [
       "<Figure size 1440x1080 with 2 Axes>"
      ]
     },
     "metadata": {
      "needs_background": "light"
     },
     "output_type": "display_data"
    }
   ],
   "source": [
    "#visualizing data in histogram\n",
    "%matplotlib inline\n",
    "import matplotlib.pyplot as plt\n",
    "housing.hist(bins=50, figsize=(20,15))"
   ]
  },
  {
   "cell_type": "code",
   "execution_count": 11,
   "id": "d03fced8",
   "metadata": {},
   "outputs": [],
   "source": [
    "#splitting columns to not_encode and enocde\n",
    "X_not_encode= housing[['bedroom','bathroom','livingroom','kitchen','parking']]\n",
    "X_label_encode = housing[['area','location','district','floor']]"
   ]
  },
  {
   "cell_type": "code",
   "execution_count": 12,
   "id": "58d6e5f8",
   "metadata": {},
   "outputs": [],
   "source": [
    "#label encoding\n",
    "from sklearn.preprocessing import LabelEncoder\n",
    "X_label_encode = X_label_encode.apply(LabelEncoder().fit_transform)"
   ]
  },
  {
   "cell_type": "code",
   "execution_count": 13,
   "id": "a1c57786",
   "metadata": {},
   "outputs": [
    {
     "data": {
      "text/html": [
       "<div>\n",
       "<style scoped>\n",
       "    .dataframe tbody tr th:only-of-type {\n",
       "        vertical-align: middle;\n",
       "    }\n",
       "\n",
       "    .dataframe tbody tr th {\n",
       "        vertical-align: top;\n",
       "    }\n",
       "\n",
       "    .dataframe thead th {\n",
       "        text-align: right;\n",
       "    }\n",
       "</style>\n",
       "<table border=\"1\" class=\"dataframe\">\n",
       "  <thead>\n",
       "    <tr style=\"text-align: right;\">\n",
       "      <th></th>\n",
       "      <th>area</th>\n",
       "      <th>location</th>\n",
       "      <th>district</th>\n",
       "      <th>floor</th>\n",
       "      <th>bedroom</th>\n",
       "      <th>bathroom</th>\n",
       "      <th>livingroom</th>\n",
       "      <th>kitchen</th>\n",
       "      <th>parking</th>\n",
       "    </tr>\n",
       "  </thead>\n",
       "  <tbody>\n",
       "    <tr>\n",
       "      <th>0</th>\n",
       "      <td>42</td>\n",
       "      <td>16</td>\n",
       "      <td>4</td>\n",
       "      <td>22</td>\n",
       "      <td>9</td>\n",
       "      <td>4</td>\n",
       "      <td>1</td>\n",
       "      <td>1</td>\n",
       "      <td>1</td>\n",
       "    </tr>\n",
       "    <tr>\n",
       "      <th>1</th>\n",
       "      <td>33</td>\n",
       "      <td>174</td>\n",
       "      <td>4</td>\n",
       "      <td>22</td>\n",
       "      <td>7</td>\n",
       "      <td>3</td>\n",
       "      <td>1</td>\n",
       "      <td>2</td>\n",
       "      <td>0</td>\n",
       "    </tr>\n",
       "    <tr>\n",
       "      <th>2</th>\n",
       "      <td>45</td>\n",
       "      <td>95</td>\n",
       "      <td>4</td>\n",
       "      <td>7</td>\n",
       "      <td>5</td>\n",
       "      <td>4</td>\n",
       "      <td>1</td>\n",
       "      <td>1</td>\n",
       "      <td>1</td>\n",
       "    </tr>\n",
       "    <tr>\n",
       "      <th>3</th>\n",
       "      <td>15</td>\n",
       "      <td>11</td>\n",
       "      <td>2</td>\n",
       "      <td>1</td>\n",
       "      <td>3</td>\n",
       "      <td>3</td>\n",
       "      <td>1</td>\n",
       "      <td>1</td>\n",
       "      <td>1</td>\n",
       "    </tr>\n",
       "    <tr>\n",
       "      <th>4</th>\n",
       "      <td>45</td>\n",
       "      <td>42</td>\n",
       "      <td>4</td>\n",
       "      <td>18</td>\n",
       "      <td>5</td>\n",
       "      <td>4</td>\n",
       "      <td>3</td>\n",
       "      <td>2</td>\n",
       "      <td>1</td>\n",
       "    </tr>\n",
       "    <tr>\n",
       "      <th>...</th>\n",
       "      <td>...</td>\n",
       "      <td>...</td>\n",
       "      <td>...</td>\n",
       "      <td>...</td>\n",
       "      <td>...</td>\n",
       "      <td>...</td>\n",
       "      <td>...</td>\n",
       "      <td>...</td>\n",
       "      <td>...</td>\n",
       "    </tr>\n",
       "    <tr>\n",
       "      <th>432</th>\n",
       "      <td>82</td>\n",
       "      <td>215</td>\n",
       "      <td>11</td>\n",
       "      <td>8</td>\n",
       "      <td>5</td>\n",
       "      <td>3</td>\n",
       "      <td>1</td>\n",
       "      <td>1</td>\n",
       "      <td>1</td>\n",
       "    </tr>\n",
       "    <tr>\n",
       "      <th>433</th>\n",
       "      <td>47</td>\n",
       "      <td>157</td>\n",
       "      <td>4</td>\n",
       "      <td>8</td>\n",
       "      <td>6</td>\n",
       "      <td>5</td>\n",
       "      <td>3</td>\n",
       "      <td>2</td>\n",
       "      <td>1</td>\n",
       "    </tr>\n",
       "    <tr>\n",
       "      <th>434</th>\n",
       "      <td>57</td>\n",
       "      <td>267</td>\n",
       "      <td>28</td>\n",
       "      <td>6</td>\n",
       "      <td>5</td>\n",
       "      <td>5</td>\n",
       "      <td>1</td>\n",
       "      <td>2</td>\n",
       "      <td>0</td>\n",
       "    </tr>\n",
       "    <tr>\n",
       "      <th>435</th>\n",
       "      <td>47</td>\n",
       "      <td>341</td>\n",
       "      <td>28</td>\n",
       "      <td>6</td>\n",
       "      <td>4</td>\n",
       "      <td>5</td>\n",
       "      <td>1</td>\n",
       "      <td>1</td>\n",
       "      <td>1</td>\n",
       "    </tr>\n",
       "    <tr>\n",
       "      <th>436</th>\n",
       "      <td>73</td>\n",
       "      <td>366</td>\n",
       "      <td>42</td>\n",
       "      <td>6</td>\n",
       "      <td>3</td>\n",
       "      <td>2</td>\n",
       "      <td>1</td>\n",
       "      <td>1</td>\n",
       "      <td>0</td>\n",
       "    </tr>\n",
       "  </tbody>\n",
       "</table>\n",
       "<p>437 rows × 9 columns</p>\n",
       "</div>"
      ],
      "text/plain": [
       "     area  location  district  floor bedroom bathroom livingroom kitchen  \\\n",
       "0      42        16         4     22       9        4          1       1   \n",
       "1      33       174         4     22       7        3          1       2   \n",
       "2      45        95         4      7       5        4          1       1   \n",
       "3      15        11         2      1       3        3          1       1   \n",
       "4      45        42         4     18       5        4          3       2   \n",
       "..    ...       ...       ...    ...     ...      ...        ...     ...   \n",
       "432    82       215        11      8       5        3          1       1   \n",
       "433    47       157         4      8       6        5          3       2   \n",
       "434    57       267        28      6       5        5          1       2   \n",
       "435    47       341        28      6       4        5          1       1   \n",
       "436    73       366        42      6       3        2          1       1   \n",
       "\n",
       "     parking  \n",
       "0          1  \n",
       "1          0  \n",
       "2          1  \n",
       "3          1  \n",
       "4          1  \n",
       "..       ...  \n",
       "432        1  \n",
       "433        1  \n",
       "434        0  \n",
       "435        1  \n",
       "436        0  \n",
       "\n",
       "[437 rows x 9 columns]"
      ]
     },
     "execution_count": 13,
     "metadata": {},
     "output_type": "execute_result"
    }
   ],
   "source": [
    "X = pd.concat([X_label_encode, X_not_encode], axis=1, join=\"inner\")\n",
    "X"
   ]
  },
  {
   "cell_type": "code",
   "execution_count": 14,
   "id": "db23ae64",
   "metadata": {},
   "outputs": [],
   "source": [
    "y = housing[['price']]"
   ]
  },
  {
   "cell_type": "code",
   "execution_count": 15,
   "id": "5c5a67dc",
   "metadata": {},
   "outputs": [
    {
     "data": {
      "text/html": [
       "<div>\n",
       "<style scoped>\n",
       "    .dataframe tbody tr th:only-of-type {\n",
       "        vertical-align: middle;\n",
       "    }\n",
       "\n",
       "    .dataframe tbody tr th {\n",
       "        vertical-align: top;\n",
       "    }\n",
       "\n",
       "    .dataframe thead th {\n",
       "        text-align: right;\n",
       "    }\n",
       "</style>\n",
       "<table border=\"1\" class=\"dataframe\">\n",
       "  <thead>\n",
       "    <tr style=\"text-align: right;\">\n",
       "      <th></th>\n",
       "      <th>price</th>\n",
       "    </tr>\n",
       "  </thead>\n",
       "  <tbody>\n",
       "    <tr>\n",
       "      <th>0</th>\n",
       "      <td>29000000</td>\n",
       "    </tr>\n",
       "    <tr>\n",
       "      <th>1</th>\n",
       "      <td>9500000</td>\n",
       "    </tr>\n",
       "    <tr>\n",
       "      <th>2</th>\n",
       "      <td>38500000</td>\n",
       "    </tr>\n",
       "    <tr>\n",
       "      <th>3</th>\n",
       "      <td>13000000</td>\n",
       "    </tr>\n",
       "    <tr>\n",
       "      <th>4</th>\n",
       "      <td>30000000</td>\n",
       "    </tr>\n",
       "  </tbody>\n",
       "</table>\n",
       "</div>"
      ],
      "text/plain": [
       "      price\n",
       "0  29000000\n",
       "1   9500000\n",
       "2  38500000\n",
       "3  13000000\n",
       "4  30000000"
      ]
     },
     "execution_count": 15,
     "metadata": {},
     "output_type": "execute_result"
    }
   ],
   "source": [
    "y.head()"
   ]
  },
  {
   "cell_type": "code",
   "execution_count": 16,
   "id": "f9974ede",
   "metadata": {},
   "outputs": [],
   "source": [
    "#splitting the data into train and test dataset\n",
    "from sklearn.model_selection import train_test_split\n",
    "\n",
    "Xtrain, Xtest, ytrain, ytest = train_test_split(X,y, test_size=0.33,random_state=42)"
   ]
  },
  {
   "cell_type": "code",
   "execution_count": 17,
   "id": "63cbd7f8",
   "metadata": {},
   "outputs": [
    {
     "data": {
      "text/plain": [
       "LinearRegression()"
      ]
     },
     "execution_count": 17,
     "metadata": {},
     "output_type": "execute_result"
    }
   ],
   "source": [
    "#importing linearregression model from sklearn and fitting it in train dataset\n",
    "from sklearn.linear_model import LinearRegression\n",
    "lm = LinearRegression()\n",
    "lm.fit(Xtrain,ytrain)"
   ]
  },
  {
   "cell_type": "code",
   "execution_count": 18,
   "id": "177dfabc",
   "metadata": {},
   "outputs": [
    {
     "data": {
      "text/plain": [
       "array([[ -209778.82988919,   -28221.73791273,    70629.77819999,\n",
       "           34960.53525768,   274596.74472122,  5568826.16034625,\n",
       "         2567475.12411157, -5882962.84417214,  2673399.56961128]])"
      ]
     },
     "execution_count": 18,
     "metadata": {},
     "output_type": "execute_result"
    }
   ],
   "source": [
    "#printing the coefficients\n",
    "lm.coef_"
   ]
  },
  {
   "cell_type": "code",
   "execution_count": 19,
   "id": "986d826d",
   "metadata": {},
   "outputs": [
    {
     "data": {
      "text/plain": [
       "Index(['area', 'location', 'district', 'floor', 'bedroom', 'bathroom',\n",
       "       'livingroom', 'kitchen', 'parking'],\n",
       "      dtype='object')"
      ]
     },
     "execution_count": 19,
     "metadata": {},
     "output_type": "execute_result"
    }
   ],
   "source": [
    "X.columns"
   ]
  },
  {
   "cell_type": "code",
   "execution_count": 20,
   "id": "b8a5161a",
   "metadata": {},
   "outputs": [],
   "source": [
    "col = np.array(X.columns)"
   ]
  },
  {
   "cell_type": "code",
   "execution_count": 21,
   "id": "6a790f97",
   "metadata": {},
   "outputs": [
    {
     "data": {
      "text/html": [
       "<div>\n",
       "<style scoped>\n",
       "    .dataframe tbody tr th:only-of-type {\n",
       "        vertical-align: middle;\n",
       "    }\n",
       "\n",
       "    .dataframe tbody tr th {\n",
       "        vertical-align: top;\n",
       "    }\n",
       "\n",
       "    .dataframe thead th {\n",
       "        text-align: right;\n",
       "    }\n",
       "</style>\n",
       "<table border=\"1\" class=\"dataframe\">\n",
       "  <thead>\n",
       "    <tr style=\"text-align: right;\">\n",
       "      <th></th>\n",
       "      <th>Coefficient</th>\n",
       "    </tr>\n",
       "  </thead>\n",
       "  <tbody>\n",
       "    <tr>\n",
       "      <th>area</th>\n",
       "      <td>-2.097788e+05</td>\n",
       "    </tr>\n",
       "    <tr>\n",
       "      <th>location</th>\n",
       "      <td>-2.822174e+04</td>\n",
       "    </tr>\n",
       "    <tr>\n",
       "      <th>district</th>\n",
       "      <td>7.062978e+04</td>\n",
       "    </tr>\n",
       "    <tr>\n",
       "      <th>floor</th>\n",
       "      <td>3.496054e+04</td>\n",
       "    </tr>\n",
       "    <tr>\n",
       "      <th>bedroom</th>\n",
       "      <td>2.745967e+05</td>\n",
       "    </tr>\n",
       "    <tr>\n",
       "      <th>bathroom</th>\n",
       "      <td>5.568826e+06</td>\n",
       "    </tr>\n",
       "    <tr>\n",
       "      <th>livingroom</th>\n",
       "      <td>2.567475e+06</td>\n",
       "    </tr>\n",
       "    <tr>\n",
       "      <th>kitchen</th>\n",
       "      <td>-5.882963e+06</td>\n",
       "    </tr>\n",
       "    <tr>\n",
       "      <th>parking</th>\n",
       "      <td>2.673400e+06</td>\n",
       "    </tr>\n",
       "  </tbody>\n",
       "</table>\n",
       "</div>"
      ],
      "text/plain": [
       "             Coefficient\n",
       "area       -2.097788e+05\n",
       "location   -2.822174e+04\n",
       "district    7.062978e+04\n",
       "floor       3.496054e+04\n",
       "bedroom     2.745967e+05\n",
       "bathroom    5.568826e+06\n",
       "livingroom  2.567475e+06\n",
       "kitchen    -5.882963e+06\n",
       "parking     2.673400e+06"
      ]
     },
     "execution_count": 21,
     "metadata": {},
     "output_type": "execute_result"
    }
   ],
   "source": [
    "coef_df = pd.DataFrame(lm.coef_.reshape(-1,1), col, columns=['Coefficient'])\n",
    "coef_df"
   ]
  },
  {
   "cell_type": "code",
   "execution_count": 22,
   "id": "72725604",
   "metadata": {},
   "outputs": [],
   "source": [
    "#making predictions\n",
    "predictions = lm.predict(Xtest)"
   ]
  },
  {
   "cell_type": "code",
   "execution_count": 23,
   "id": "a06334ee",
   "metadata": {},
   "outputs": [
    {
     "data": {
      "text/plain": [
       "<matplotlib.collections.PathCollection at 0x2537855ff70>"
      ]
     },
     "execution_count": 23,
     "metadata": {},
     "output_type": "execute_result"
    },
    {
     "data": {
      "image/png": "[encoded data removed]",
      "text/plain": [
       "<Figure size 432x288 with 1 Axes>"
      ]
     },
     "metadata": {
      "needs_background": "light"
     },
     "output_type": "display_data"
    }
   ],
   "source": [
    "plt.scatter(ytest,predictions)"
   ]
  },
  {
   "cell_type": "code",
   "execution_count": 24,
   "id": "1228c6d5",
   "metadata": {},
   "outputs": [
    {
     "data": {
      "text/plain": [
       "(145, 1)"
      ]
     },
     "execution_count": 24,
     "metadata": {},
     "output_type": "execute_result"
    }
   ],
   "source": [
    "ytest.shape"
   ]
  },
  {
   "cell_type": "code",
   "execution_count": 25,
   "id": "710c5909",
   "metadata": {},
   "outputs": [
    {
     "data": {
      "text/plain": [
       "(145, 1)"
      ]
     },
     "execution_count": 25,
     "metadata": {},
     "output_type": "execute_result"
    }
   ],
   "source": [
    "predictions.shape"
   ]
  },
  {
   "cell_type": "code",
   "execution_count": 26,
   "id": "e2c91981",
   "metadata": {},
   "outputs": [
    {
     "data": {
      "text/plain": [
       "0.0333174459653659"
      ]
     },
     "execution_count": 26,
     "metadata": {},
     "output_type": "execute_result"
    }
   ],
   "source": [
    "lm.score(Xtest,ytest)"
   ]
  },
  {
   "cell_type": "code",
   "execution_count": null,
   "id": "91ff7fae",
   "metadata": {},
   "outputs": [],
   "source": []
  }
 ],
 "metadata": {
  "kernelspec": {
   "display_name": "Python 3 (ipykernel)",
   "language": "python",
   "name": "python3"
  },
  "language_info": {
   "codemirror_mode": {
    "name": "ipython",
    "version": 3
   },
   "file_extension": ".py",
   "mimetype": "text/x-python",
   "name": "python",
   "nbconvert_exporter": "python",
   "pygments_lexer": "ipython3",
   "version": "3.9.7"
  }
 },
 "nbformat": 4,
 "nbformat_minor": 5
}
